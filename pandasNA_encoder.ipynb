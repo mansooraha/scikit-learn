{
  "nbformat": 4,
  "nbformat_minor": 0,
  "metadata": {
    "colab": {
      "provenance": [],
      "authorship_tag": "ABX9TyOgGfdp/Ov/MTFgAfuAwVZW",
      "include_colab_link": true
    },
    "kernelspec": {
      "name": "python3",
      "display_name": "Python 3"
    },
    "language_info": {
      "name": "python"
    }
  },
  "cells": [
    {
      "cell_type": "markdown",
      "metadata": {
        "id": "view-in-github",
        "colab_type": "text"
      },
      "source": [
        "<a href=\"https://colab.research.google.com/github/mansooraha/scikit-learn/blob/main/pandasNA_encoder.ipynb\" target=\"_parent\"><img src=\"https://colab.research.google.com/assets/colab-badge.svg\" alt=\"Open In Colab\"/></a>"
      ]
    },
    {
      "cell_type": "code",
      "source": [
        "import pandas as pd\n",
        "from sklearn.preprocessing import OneHotEncoder\n",
        "import numpy as np\n",
        "\n",
        "# ✅ Create a DataFrame with pandas.NA\n",
        "df = pd.DataFrame({\n",
        "    \"color\": pd.Series([\"Red\", \"Blue\", pd.NA, \"Green\"], dtype=\"string\")\n",
        "})\n",
        "\n",
        "print(\"Original DataFrame with pd.NA:\")\n",
        "print(df)\n",
        "\n",
        "#  Attempting default OneHotEncoder causes error\n",
        "try:\n",
        "    encoder = OneHotEncoder(sparse_output=False)\n",
        "    encoder.fit_transform(df)\n",
        "except Exception as e:\n",
        "    print(\"\\n Default encoder failed with error:\")\n",
        "    print(e)\n",
        "\n",
        "# ✅ Workaround: Replace pd.NA with a placeholder\n",
        "df_filled = df.fillna(\"__PANDAS_NA__\")\n",
        "encoder = OneHotEncoder(sparse_output=False, handle_unknown=\"ignore\")\n",
        "encoded = encoder.fit_transform(df_filled)\n",
        "\n",
        "print(\"\\n✅ Encoded output with pd.NA treated as category:\")\n",
        "print(encoded)\n",
        "print(\"\\nFeature names:\", encoder.get_feature_names_out())\n"
      ],
      "metadata": {
        "id": "u1GSl99h275-",
        "colab": {
          "base_uri": "https://localhost:8080/"
        },
        "outputId": "78e024a1-1f3f-4b9f-da3d-f3f7b0c0904c"
      },
      "execution_count": null,
      "outputs": [
        {
          "output_type": "stream",
          "name": "stdout",
          "text": [
            "Original DataFrame with pd.NA:\n",
            "   color\n",
            "0    Red\n",
            "1   Blue\n",
            "2   <NA>\n",
            "3  Green\n",
            "\n",
            " Default encoder failed with error:\n",
            "Encoders require their input argument must be uniformly strings or numbers. Got ['NAType', 'str']\n",
            "\n",
            "✅ Encoded output with pd.NA treated as category:\n",
            "[[0. 0. 1. 0.]\n",
            " [1. 0. 0. 0.]\n",
            " [0. 0. 0. 1.]\n",
            " [0. 1. 0. 0.]]\n",
            "\n",
            "Feature names: ['color_Blue' 'color_Green' 'color_Red' 'color___PANDAS_NA__']\n"
          ]
        }
      ]
    }
  ]
}